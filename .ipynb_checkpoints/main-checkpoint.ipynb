{
 "cells": [
  {
   "cell_type": "code",
   "execution_count": 1,
   "id": "d3004399-16a3-495c-9640-212a8d4236e5",
   "metadata": {
    "tags": []
   },
   "outputs": [],
   "source": [
    "# pip install -r requirements.txt"
   ]
  },
  {
   "cell_type": "code",
   "execution_count": 2,
   "id": "5b711bf3-5e29-4b4b-b276-ee02673bb63b",
   "metadata": {},
   "outputs": [],
   "source": [
    "import os\n",
    "import argparse\n",
    "from pydub import AudioSegment\n",
    "import librosa\n",
    "from IPython.display import Audio, IFrame, display\n",
    "import IPython.display as ipd\n",
    "import matplotlib.pyplot as plt\n",
    "from cmath import exp, pi\n",
    "import numpy as np\n",
    "import soundfile as sf\n",
    "import numpy.fft as fft\n",
    "from scipy.io import wavfile\n",
    "from scipy import signal"
   ]
  },
  {
   "cell_type": "code",
   "execution_count": 3,
   "id": "64c78e41-d9dc-4f8b-8e0c-bdbcd8d458f8",
   "metadata": {},
   "outputs": [
    {
     "data": {
      "text/plain": [
       "['Jason/s4.wav',\n",
       " 'Jason/s2.wav',\n",
       " 'Jason/s3.wav',\n",
       " 'Jason/s1.wav',\n",
       " 'Karina/Sentence1.wav',\n",
       " 'Karina/Sentence3.wav',\n",
       " 'Karina/Sentence2.wav',\n",
       " 'Karina/Sentence4.wav',\n",
       " 'Rifa/Sentence 3.wav',\n",
       " 'Rifa/Sentence 2.wav',\n",
       " 'Rifa/Sentence 1.wav',\n",
       " 'Rifa/Sentence 4.wav']"
      ]
     },
     "execution_count": 3,
     "metadata": {},
     "output_type": "execute_result"
    }
   ],
   "source": [
    "path = [\"Jason/\", \"Karina/\", \"Rifa/\"]\n",
    "\n",
    "file_path = []\n",
    "for i in path:\n",
    "    for(dirpath, dirnames, filenames) in os.walk(i):\n",
    "        res = [i+x for x in filenames]\n",
    "        file_path += res\n",
    "file_path"
   ]
  },
  {
   "cell_type": "code",
   "execution_count": 4,
   "id": "9828f90d-9a6b-41cc-8a04-ae2803b48b72",
   "metadata": {},
   "outputs": [],
   "source": [
    "formats_to_convert = ['.m4a']\n",
    "\n",
    "for i in path:\n",
    "    for (dirpath, dirnames, filenames) in os.walk(i):\n",
    "        for filename in filenames:\n",
    "            if filename.endswith(tuple(formats_to_convert)):\n",
    "\n",
    "                filepath = dirpath + '/' + filename\n",
    "                (path, file_extension) = os.path.splitext(filepath)\n",
    "                file_extension_final = file_extension.replace('.', '')\n",
    "                try:\n",
    "                    track = AudioSegment.from_file(filepath,\n",
    "                            file_extension_final)\n",
    "                    wav_filename = filename.replace(file_extension_final, 'wav')\n",
    "                    wav_path = dirpath + '/' + wav_filename\n",
    "                    print('CONVERTING: ' + str(filepath))\n",
    "                    file_handle = track.export(wav_path, format='wav')\n",
    "                    os.remove(filepath)\n",
    "                except:\n",
    "                    print(\"ERROR CONVERTING \" + str(filepath))"
   ]
  },
  {
   "cell_type": "code",
   "execution_count": 5,
   "id": "b2b3dc59-6407-433f-8795-8bb1711fd79a",
   "metadata": {},
   "outputs": [],
   "source": [
    "# function custom in use \n",
    "def lowest_power_of_2(x):\n",
    "    i = 1;\n",
    "    while i < x : i*=2;\n",
    "    return i"
   ]
  },
  {
   "cell_type": "code",
   "execution_count": 6,
   "id": "46f1dc8a-c5e5-4a3b-9501-044fea42426c",
   "metadata": {},
   "outputs": [],
   "source": [
    "# sample the input audio file to 500, 2000 and 16000Hz;\n",
    "freq = [500, 2000, 16000]\n",
    "\n",
    "# File in file_path from previous cells\n",
    "for i in file_path:\n",
    "    # reading the audio file using wavfile from scipy library\n",
    "    sample_rate, audio_data = wavfile.read(i)\n",
    "\n",
    "    # Initial Audio Processing\n",
    "    x = len(audio_data.shape)\n",
    "    if(x > 1) :\n",
    "        audio_data = audio_data[:,0]\n",
    "    audio = np.asarray(audio_data)\n",
    "    N = len(audio)\n",
    "    lp2 = lowest_power_of_2(N)\n",
    "    audio = np.pad(audio, (0,lp2 - N), 'constant')\n",
    "    dur = len(audio)/float(sample_rate)\n",
    "\n",
    "    # frequency change\n",
    "    for f in freq : \n",
    "        nsample = int( dur * f)\n",
    "        a_freq = np.interp(np.linspace(0, len(audio), nsample, endpoint = False), np.arange(len(audio)), audio)\n",
    "        wavfile.write(\"Audiorecording/\" + str(f) + \"_\" + i.split(\"/\")[0] + \"_\" + i.split(\"/\")[1], f, a_freq.astype(np.int16))"
   ]
  },
  {
   "cell_type": "code",
   "execution_count": 7,
   "id": "18d69565-427f-47ba-a7ad-7c3a65bf0a73",
   "metadata": {
    "tags": []
   },
   "outputs": [
    {
     "data": {
      "text/plain": [
       "['Audiorecording/500_Rifa_Sentence 4.wav',\n",
       " 'Audiorecording/16000_Karina_Sentence4.wav',\n",
       " 'Audiorecording/2000_Jason_s4.wav',\n",
       " 'Audiorecording/500_Jason_s4.wav',\n",
       " 'Audiorecording/500_Jason_s3.wav',\n",
       " 'Audiorecording/16000_Karina_Sentence3.wav',\n",
       " 'Audiorecording/2000_Jason_s3.wav',\n",
       " 'Audiorecording/500_Rifa_Sentence 3.wav',\n",
       " 'Audiorecording/500_Rifa_Sentence 2.wav',\n",
       " 'Audiorecording/2000_Jason_s2.wav',\n",
       " 'Audiorecording/16000_Karina_Sentence2.wav',\n",
       " 'Audiorecording/500_Jason_s2.wav',\n",
       " 'Audiorecording/500_Rifa_Sentence 1.wav',\n",
       " 'Audiorecording/2000_Jason_s1.wav',\n",
       " 'Audiorecording/16000_Karina_Sentence1.wav',\n",
       " 'Audiorecording/500_Jason_s1.wav',\n",
       " 'Audiorecording/16000_Rifa_Sentence 2.wav',\n",
       " 'Audiorecording/16000_Rifa_Sentence 3.wav',\n",
       " 'Audiorecording/16000_Rifa_Sentence 1.wav',\n",
       " 'Audiorecording/2000_Rifa_Sentence 4.wav',\n",
       " 'Audiorecording/16000_Rifa_Sentence 4.wav',\n",
       " 'Audiorecording/2000_Rifa_Sentence 1.wav',\n",
       " 'Audiorecording/2000_Rifa_Sentence 3.wav',\n",
       " 'Audiorecording/2000_Rifa_Sentence 2.wav',\n",
       " 'Audiorecording/500_Karina_Sentence4.wav',\n",
       " 'Audiorecording/2000_Karina_Sentence1.wav',\n",
       " 'Audiorecording/2000_Karina_Sentence3.wav',\n",
       " 'Audiorecording/16000_Jason_s4.wav',\n",
       " 'Audiorecording/2000_Karina_Sentence2.wav',\n",
       " 'Audiorecording/500_Karina_Sentence3.wav',\n",
       " 'Audiorecording/16000_Jason_s1.wav',\n",
       " 'Audiorecording/500_Karina_Sentence2.wav',\n",
       " 'Audiorecording/16000_Jason_s3.wav',\n",
       " 'Audiorecording/16000_Jason_s2.wav',\n",
       " 'Audiorecording/500_Karina_Sentence1.wav',\n",
       " 'Audiorecording/2000_Karina_Sentence4.wav']"
      ]
     },
     "execution_count": 7,
     "metadata": {},
     "output_type": "execute_result"
    }
   ],
   "source": [
    "# updating file_path to the newest sampled files\n",
    "file_path = []\n",
    "folder_path = \"Audiorecording/\"\n",
    "for (dirpath ,dirnames, filenames) in os.walk(folder_path):\n",
    "    file_path = [folder_path + x for x in filenames]\n",
    "file_path"
   ]
  },
  {
   "cell_type": "code",
   "execution_count": 8,
   "id": "fae1517f-da66-4993-b735-421c624c336a",
   "metadata": {},
   "outputs": [],
   "source": [
    "def dft(x):\n",
    "    N = len(x)\n",
    "    if N <= 1: \n",
    "        return x\n",
    "    if N%2 !=0:\n",
    "        x = np.append(x,np.zeros(1))\n",
    "        N+=1\n",
    "    \n",
    "    even = dft(x[0::2])\n",
    "    odd =  dft(x[1::2])\n",
    "    T= [exp(-2j*pi*k/N)*odd[k] for k in range(N//2)]\n",
    "    return [even[k] + T[k] for k in range(N//2)] + \\\n",
    "           [even[k] - T[k] for k in range(N//2)]"
   ]
  },
  {
   "cell_type": "code",
   "execution_count": null,
   "id": "4cdb6283-0ccc-45bf-bab6-12d484fe160a",
   "metadata": {
    "tags": []
   },
   "outputs": [],
   "source": [
    "for i in file_path:\n",
    "    samples, sampling_rate = librosa.load(i,sr=None,mono=True, offset = 0.0, duration = None)\n",
    "    duration = len(samples)/sampling_rate\n",
    "    # print(duration)\n",
    "    plt.figure(figsize = (5,20))\n",
    "    plt.subplot(3,1,1)\n",
    "    \n",
    "    plt.title(i + \" \" + str(sampling_rate) + \"Hz\")\n",
    "    # librosa.display.waveshow(y = samples, sr = sampling_rate)\n",
    "    plt.plot(samples)\n",
    "    plt.xlabel(\"Frequency ------>\")\n",
    "    plt.ylabel(\"Magnitude ------>\")\n",
    "    # plt.show()\n",
    "    \n",
    "    plt.subplot(3,1,2)\n",
    "    x = np.abs(dft(samples))\n",
    "    # librosa.display.waveshow(y=x, sr = sampling_rate)\n",
    "    plt.plot(x)\n",
    "    plt.title(\"custom function\")\n",
    "    plt.xlabel(\"Frequency ------>\")\n",
    "    plt.ylabel(\"Magnitude ------>\")\n",
    "    # plt.show()\n",
    "    \n",
    "    plt.subplot(3,1,3)\n",
    "    z = abs(fft.fft(samples))\n",
    "    plt.title(\"Inbuilt function check\")\n",
    "    # librosa.display.waveshow(y = z, sr = sampling_rate)\n",
    "    plt.plot(z)\n",
    "    plt.xlabel(\"Frequency ------>\")\n",
    "    plt.ylabel(\"Magnitude ------>\")\n",
    "    \n",
    "    \n",
    "    plt.show()"
   ]
  },
  {
   "cell_type": "markdown",
   "id": "c8261254-57f1-4b12-8bf5-b0074248b4de",
   "metadata": {},
   "source": [
    "# Denoising"
   ]
  },
  {
   "cell_type": "code",
   "execution_count": null,
   "id": "7d667024-201a-4970-9f17-b7f50856ee66",
   "metadata": {},
   "outputs": [],
   "source": [
    "import random\n",
    "\n",
    "def f_high(y, sr):\n",
    "    tmp = 0.15\n",
    "    if sr == 500:\n",
    "        tmp = 1- 50/sr\n",
    "    elif sr == 2000 :\n",
    "        tmp = 0.55\n",
    "    b, a = signal.butter(10, tmp, btype='highpass')\n",
    "    yf = signal.lfilter(b,a,y)\n",
    "    return yf"
   ]
  },
  {
   "cell_type": "code",
   "execution_count": null,
   "id": "8e54babe-f243-4014-95ec-8d58ddacb6e1",
   "metadata": {},
   "outputs": [],
   "source": [
    "for i in file_path :\n",
    "    samples, sampling_rate = librosa.load(i,sr=None, mono=True, offset = 0.0, duration = None )\n",
    "    \n",
    "    plt.figure(figsize = (5,5))\n",
    "    \n",
    "    plt.title(i + \" \" + str(sampling_rate) + \"Hz\")\n",
    "    # librosa.display.waveshow(y = samples, sr = sampling_rate)\n",
    "    plt.plot(samples, label=\"original\")\n",
    "    plt.xlabel(\"Frequency ------>\")\n",
    "    plt.ylabel(\"Magnitude ------>\")\n",
    "    \n",
    "    fsamples = f_high(samples, sampling_rate) \n",
    "    plt.plot(fsamples, label=\"denoised\")\n",
    "    plt.xlabel(\"Frequency ------>\")\n",
    "    plt.ylabel(\"Magnitude ------>\")\n",
    "    plt.legend()\n",
    "    plt.show()\n",
    "    \n",
    "    wavfile.write(\"Denoised/Filtered_\" + i.split(\"/\")[1], sampling_rate, fsamples.astype(np.int16))"
   ]
  },
  {
   "cell_type": "code",
   "execution_count": null,
   "id": "368d8a1d-0a95-4171-b6b1-a6b872164439",
   "metadata": {},
   "outputs": [],
   "source": []
  }
 ],
 "metadata": {
  "kernelspec": {
   "display_name": "Python [conda env:sns] *",
   "language": "python",
   "name": "conda-env-sns-py"
  },
  "language_info": {
   "codemirror_mode": {
    "name": "ipython",
    "version": 3
   },
   "file_extension": ".py",
   "mimetype": "text/x-python",
   "name": "python",
   "nbconvert_exporter": "python",
   "pygments_lexer": "ipython3",
   "version": "3.9.16"
  }
 },
 "nbformat": 4,
 "nbformat_minor": 5
}
